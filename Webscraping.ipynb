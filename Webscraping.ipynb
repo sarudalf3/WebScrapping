{
 "cells": [
  {
   "attachments": {},
   "cell_type": "markdown",
   "metadata": {},
   "source": [
    "## Webscraping using beautiful soup\n",
    "\n",
    "### Import libraries"
   ]
  },
  {
   "cell_type": "code",
   "execution_count": 1,
   "metadata": {},
   "outputs": [],
   "source": [
    "from bs4 import BeautifulSoup as bs\n",
    "import requests\n",
    "import pandas as pd"
   ]
  },
  {
   "attachments": {},
   "cell_type": "markdown",
   "metadata": {},
   "source": [
    "### Insert url and request yo the server.\n",
    "\n",
    "If we obtain a code 200, we get successfully the website source code. \n",
    "\n",
    "A detail of HTTP codes\n",
    "[here](https://en.wikipedia.org/wiki/List_of_HTTP_status_codes)."
   ]
  },
  {
   "cell_type": "code",
   "execution_count": 2,
   "metadata": {},
   "outputs": [
    {
     "name": "stdout",
     "output_type": "stream",
     "text": [
      "<Response [200]>\n"
     ]
    }
   ],
   "source": [
    "url = \"https://www.decathlon.in/camping/tents-shelters-15687?id=15687&type=c\"\n",
    "response = requests.get(url)\n",
    "print(response) #If the request it is 200, it is successful"
   ]
  },
  {
   "attachments": {},
   "cell_type": "markdown",
   "metadata": {},
   "source": [
    "We need to get the source code of a website, and the parser. There are many options, but the most used are `html.parser` and `lxml`"
   ]
  },
  {
   "cell_type": "code",
   "execution_count": 3,
   "metadata": {},
   "outputs": [],
   "source": [
    "html = response.content #Source code\n",
    "soup = bs(html, 'lxml') #Transform"
   ]
  },
  {
   "attachments": {},
   "cell_type": "markdown",
   "metadata": {},
   "source": [
    "To check it, we show title information of website source code "
   ]
  },
  {
   "cell_type": "code",
   "execution_count": 4,
   "metadata": {},
   "outputs": [
    {
     "data": {
      "text/plain": [
       "<title>Buy Tent Online | Decathlon</title>"
      ]
     },
     "execution_count": 4,
     "metadata": {},
     "output_type": "execute_result"
    }
   ],
   "source": [
    "soup.title"
   ]
  },
  {
   "attachments": {},
   "cell_type": "markdown",
   "metadata": {},
   "source": [
    "This part of code you need to surf inside website source code (F12 in your prefered navigator), to identify the chunks of a HTML where we get the information. In this case, there are a `div` tag with class `card h-full` contains the useful information of every tent on website.\n",
    "\n",
    "To get a list of all products, we use the function `find_all`. Instead, if you need to get the first, use `find`."
   ]
  },
  {
   "cell_type": "code",
   "execution_count": 5,
   "metadata": {},
   "outputs": [],
   "source": [
    "# encontrar todos los productos en la página\n",
    "products = soup.find_all('div', class_='card h-full')"
   ]
  },
  {
   "attachments": {},
   "cell_type": "markdown",
   "metadata": {},
   "source": [
    "The next step is search in each producto and get the tag and class to catch specific information (p.e the `a` tag and `href` give the url to go to the details of a product). We collect the data on lists, to merge in a dataframe later."
   ]
  },
  {
   "cell_type": "code",
   "execution_count": 6,
   "metadata": {},
   "outputs": [],
   "source": [
    "names = []\n",
    "brands = []\n",
    "currencies = []\n",
    "prices = []\n",
    "ratings = []\n",
    "reviews = []\n",
    "\n",
    "for product in products:\n",
    "    # encontrar el nombre del producto\n",
    "    name = product.find('p', class_='capitalize text-14 lg:text-14 whitespace-nowrap overflow-ellipsis overflow-hidden mt-1').text.strip()\n",
    "    names.append(name)\n",
    "    \n",
    "    # encontrar la marca del producto\n",
    "    brand = product.find('div', {'class':'font-semibold text-grey-900 lg:text-16 GBwGxwDUZb'}).text.strip()\n",
    "    brands.append(brand)\n",
    "        \n",
    "    # encontrar la moneda de precio del producto\n",
    "    currency = product.find('div','relative px-2 sm:px-2 py-0.5 bg-yellow-400 text-14 whitespace-nowrap lg:text-16').find_all('span')[0].text.strip()\n",
    "    currencies.append(currency)\n",
    "    \n",
    "    # encontrar el precio del producto\n",
    "    price = product.find('div','relative px-2 sm:px-2 py-0.5 bg-yellow-400 text-14 whitespace-nowrap lg:text-16').find_all('span')[1].text.strip()\n",
    "    prices.append(price)\n",
    "    \n",
    "    # encontrar la calificación promedio del producto\n",
    "    rating = product.find('span', {'class':'ml-1 font-semibold text-blue-500 text-12 lg:text-14'}).text.strip()\n",
    "    ratings.append(rating)\n",
    "    \n",
    "    # encontrar link con información detallada del producto\n",
    "    review = product.find('a')['href']\n",
    "    review = 'https://www.decathlon.in' + review\n",
    "    reviews.append(review)"
   ]
  },
  {
   "attachments": {},
   "cell_type": "markdown",
   "metadata": {},
   "source": [
    "We create a dataframe with lists"
   ]
  },
  {
   "cell_type": "code",
   "execution_count": 7,
   "metadata": {},
   "outputs": [],
   "source": [
    "df = pd.DataFrame.from_dict({'Product':names, 'Brand':brands, 'Rating':ratings, 'Currency':currencies,\n",
    "                        'Price':prices, 'Description':reviews})"
   ]
  },
  {
   "cell_type": "code",
   "execution_count": 8,
   "metadata": {},
   "outputs": [
    {
     "name": "stdout",
     "output_type": "stream",
     "text": [
      "(20, 6)\n"
     ]
    },
    {
     "data": {
      "text/html": [
       "<div>\n",
       "<style scoped>\n",
       "    .dataframe tbody tr th:only-of-type {\n",
       "        vertical-align: middle;\n",
       "    }\n",
       "\n",
       "    .dataframe tbody tr th {\n",
       "        vertical-align: top;\n",
       "    }\n",
       "\n",
       "    .dataframe thead th {\n",
       "        text-align: right;\n",
       "    }\n",
       "</style>\n",
       "<table border=\"1\" class=\"dataframe\">\n",
       "  <thead>\n",
       "    <tr style=\"text-align: right;\">\n",
       "      <th></th>\n",
       "      <th>Product</th>\n",
       "      <th>Brand</th>\n",
       "      <th>Rating</th>\n",
       "      <th>Currency</th>\n",
       "      <th>Price</th>\n",
       "      <th>Description</th>\n",
       "    </tr>\n",
       "  </thead>\n",
       "  <tbody>\n",
       "    <tr>\n",
       "      <th>19</th>\n",
       "      <td>Protective Groundsheet MT500 3-Person Tent</td>\n",
       "      <td>FORCLAZ</td>\n",
       "      <td>4.8</td>\n",
       "      <td>₹</td>\n",
       "      <td>999</td>\n",
       "      <td>https://www.decathlon.in/p/8581938/tents-shelt...</td>\n",
       "    </tr>\n",
       "    <tr>\n",
       "      <th>15</th>\n",
       "      <td>Camping tent - MH100  - 3-person - Fresh</td>\n",
       "      <td>QUECHUA</td>\n",
       "      <td>4.5</td>\n",
       "      <td>₹</td>\n",
       "      <td>6,999</td>\n",
       "      <td>https://www.decathlon.in/p/8641760/tents-shelt...</td>\n",
       "    </tr>\n",
       "    <tr>\n",
       "      <th>11</th>\n",
       "      <td>Camping hoop tent - Arpenaz 6.3 - 6-Person - 3...</td>\n",
       "      <td>QUECHUA</td>\n",
       "      <td>3.9</td>\n",
       "      <td>₹</td>\n",
       "      <td>22,999</td>\n",
       "      <td>https://www.decathlon.in/p/8603881/tents-shelt...</td>\n",
       "    </tr>\n",
       "    <tr>\n",
       "      <th>13</th>\n",
       "      <td>Camping Tarp MH100 Blue</td>\n",
       "      <td>QUECHUA</td>\n",
       "      <td>4.4</td>\n",
       "      <td>₹</td>\n",
       "      <td>2,299</td>\n",
       "      <td>https://www.decathlon.in/p/8544366/tents-shelt...</td>\n",
       "    </tr>\n",
       "    <tr>\n",
       "      <th>3</th>\n",
       "      <td>Camping Living Room with poles - Arpenaz Base ...</td>\n",
       "      <td>QUECHUA</td>\n",
       "      <td>4.4</td>\n",
       "      <td>₹</td>\n",
       "      <td>11,999</td>\n",
       "      <td>https://www.decathlon.in/p/8648391/tents-shelt...</td>\n",
       "    </tr>\n",
       "  </tbody>\n",
       "</table>\n",
       "</div>"
      ],
      "text/plain": [
       "                                              Product    Brand Rating  \\\n",
       "19         Protective Groundsheet MT500 3-Person Tent  FORCLAZ    4.8   \n",
       "15           Camping tent - MH100  - 3-person - Fresh  QUECHUA    4.5   \n",
       "11  Camping hoop tent - Arpenaz 6.3 - 6-Person - 3...  QUECHUA    3.9   \n",
       "13                            Camping Tarp MH100 Blue  QUECHUA    4.4   \n",
       "3   Camping Living Room with poles - Arpenaz Base ...  QUECHUA    4.4   \n",
       "\n",
       "   Currency   Price                                        Description  \n",
       "19        ₹     999  https://www.decathlon.in/p/8581938/tents-shelt...  \n",
       "15        ₹   6,999  https://www.decathlon.in/p/8641760/tents-shelt...  \n",
       "11        ₹  22,999  https://www.decathlon.in/p/8603881/tents-shelt...  \n",
       "13        ₹   2,299  https://www.decathlon.in/p/8544366/tents-shelt...  \n",
       "3         ₹  11,999  https://www.decathlon.in/p/8648391/tents-shelt...  "
      ]
     },
     "execution_count": 8,
     "metadata": {},
     "output_type": "execute_result"
    }
   ],
   "source": [
    "print(df.shape)\n",
    "df.sample(5)"
   ]
  },
  {
   "attachments": {},
   "cell_type": "markdown",
   "metadata": {},
   "source": [
    "### Bonus! Get the products from several pages\n",
    "\n",
    "It is possible that there are a lot of tents, and the website includes and pagination. In this case, the url website has the option of a page at he end `&page=2` in case of page 2."
   ]
  },
  {
   "cell_type": "code",
   "execution_count": 9,
   "metadata": {},
   "outputs": [
    {
     "name": "stdout",
     "output_type": "stream",
     "text": [
      "https://www.decathlon.in/camping/tents-shelters-15687?id=15687&type=c&page=1\n",
      "https://www.decathlon.in/camping/tents-shelters-15687?id=15687&type=c&page=2\n"
     ]
    }
   ],
   "source": [
    "urls = []\n",
    "page = 1\n",
    "while page < 3:\n",
    "      url = f\"https://www.decathlon.in/camping/tents-shelters-15687?id=15687&type=c&page={page}\"\n",
    "      urls.append(url)\n",
    "      print(url)\n",
    "      page = page + 1"
   ]
  },
  {
   "attachments": {},
   "cell_type": "markdown",
   "metadata": {},
   "source": [
    "We create a function to catch the data in the 2 pages of a website. We only need the url to iterate each page."
   ]
  },
  {
   "cell_type": "code",
   "execution_count": 10,
   "metadata": {},
   "outputs": [],
   "source": [
    "def scrap_tents(url):\n",
    "    response = requests.get(url)\n",
    "    html = response.content #Codigo fuente\n",
    "    soup = bs(html, 'lxml')\n",
    "    products = soup.find_all('div', class_='card h-full')\n",
    "    \n",
    "    for product in products:\n",
    "        # encontrar el nombre del producto\n",
    "        name = product.find('p', class_='capitalize text-14 lg:text-14 whitespace-nowrap overflow-ellipsis overflow-hidden mt-1').text.strip()\n",
    "        names.append(name)\n",
    "\n",
    "        # encontrar la marca del producto\n",
    "        brand = product.find('div', {'class':'font-semibold text-grey-900 lg:text-16 GBwGxwDUZb'}).text.strip()\n",
    "        brands.append(brand)\n",
    "\n",
    "        # encontrar la moneda de precio del producto\n",
    "        currency = product.find('div','relative px-2 sm:px-2 py-0.5 bg-yellow-400 text-14 whitespace-nowrap lg:text-16').find_all('span')[0].text.strip()\n",
    "        currencies.append(currency)\n",
    "\n",
    "        # encontrar el precio del producto\n",
    "        price = product.find('div','relative px-2 sm:px-2 py-0.5 bg-yellow-400 text-14 whitespace-nowrap lg:text-16').find_all('span')[1].text.strip()\n",
    "        prices.append(price)\n",
    "\n",
    "        # encontrar la calificación promedio del producto\n",
    "        rating = product.find('span', {'class':'ml-1 font-semibold text-blue-500 text-12 lg:text-14'}).text.strip()\n",
    "        ratings.append(rating)\n",
    "\n",
    "        # encontrar link con información detallada del producto\n",
    "        review = product.find('a')['href']\n",
    "        review = 'https://www.decathlon.in' + review\n",
    "        reviews.append(review)    "
   ]
  },
  {
   "attachments": {},
   "cell_type": "markdown",
   "metadata": {},
   "source": [
    "We iterate every url in list `urls` and save data in lists"
   ]
  },
  {
   "cell_type": "code",
   "execution_count": 11,
   "metadata": {},
   "outputs": [
    {
     "data": {
      "text/plain": [
       "[None, None]"
      ]
     },
     "execution_count": 11,
     "metadata": {},
     "output_type": "execute_result"
    }
   ],
   "source": [
    "names = []\n",
    "brands = []\n",
    "currencies = []\n",
    "prices = []\n",
    "ratings = []\n",
    "reviews = []\n",
    "\n",
    "[scrap_tents(url) for url in urls]"
   ]
  },
  {
   "attachments": {},
   "cell_type": "markdown",
   "metadata": {},
   "source": [
    "Next, we transform the data in a dataframe"
   ]
  },
  {
   "cell_type": "code",
   "execution_count": 12,
   "metadata": {},
   "outputs": [],
   "source": [
    "df2 = pd.DataFrame.from_dict({'Product':names, 'Brand':brands, 'Rating':ratings, 'Currency':currencies,\n",
    "                        'Price':prices, 'Description':reviews})"
   ]
  },
  {
   "cell_type": "code",
   "execution_count": 13,
   "metadata": {},
   "outputs": [
    {
     "name": "stdout",
     "output_type": "stream",
     "text": [
      "(29, 6)\n"
     ]
    },
    {
     "data": {
      "text/html": [
       "<div>\n",
       "<style scoped>\n",
       "    .dataframe tbody tr th:only-of-type {\n",
       "        vertical-align: middle;\n",
       "    }\n",
       "\n",
       "    .dataframe tbody tr th {\n",
       "        vertical-align: top;\n",
       "    }\n",
       "\n",
       "    .dataframe thead th {\n",
       "        text-align: right;\n",
       "    }\n",
       "</style>\n",
       "<table border=\"1\" class=\"dataframe\">\n",
       "  <thead>\n",
       "    <tr style=\"text-align: right;\">\n",
       "      <th></th>\n",
       "      <th>Product</th>\n",
       "      <th>Brand</th>\n",
       "      <th>Rating</th>\n",
       "      <th>Currency</th>\n",
       "      <th>Price</th>\n",
       "      <th>Description</th>\n",
       "    </tr>\n",
       "  </thead>\n",
       "  <tbody>\n",
       "    <tr>\n",
       "      <th>18</th>\n",
       "      <td>Camping tent 2 Seconds Easy - 3-P - Fresh&amp;Black</td>\n",
       "      <td>QUECHUA</td>\n",
       "      <td>4.6</td>\n",
       "      <td>₹</td>\n",
       "      <td>16,999</td>\n",
       "      <td>https://www.decathlon.in/p/8576110/tents-shelt...</td>\n",
       "    </tr>\n",
       "    <tr>\n",
       "      <th>11</th>\n",
       "      <td>Camping hoop tent - Arpenaz 6.3 - 6-Person - 3...</td>\n",
       "      <td>QUECHUA</td>\n",
       "      <td>3.9</td>\n",
       "      <td>₹</td>\n",
       "      <td>22,999</td>\n",
       "      <td>https://www.decathlon.in/p/8603881/tents-shelt...</td>\n",
       "    </tr>\n",
       "    <tr>\n",
       "      <th>25</th>\n",
       "      <td>Ultra-light reflective trekking guy ropes</td>\n",
       "      <td>FORCLAZ</td>\n",
       "      <td>4.3</td>\n",
       "      <td>₹</td>\n",
       "      <td>399</td>\n",
       "      <td>https://www.decathlon.in/p/8527882/tents-shelt...</td>\n",
       "    </tr>\n",
       "    <tr>\n",
       "      <th>28</th>\n",
       "      <td>3-Person Trekking Tent MT900 Ultralight</td>\n",
       "      <td>FORCLAZ</td>\n",
       "      <td>4.0</td>\n",
       "      <td>₹</td>\n",
       "      <td>22,999</td>\n",
       "      <td>https://www.decathlon.in/p/8586319/tents-shelt...</td>\n",
       "    </tr>\n",
       "    <tr>\n",
       "      <th>26</th>\n",
       "      <td>Trekking dome tent - 2-person - MT900 Minimal ...</td>\n",
       "      <td>FORCLAZ</td>\n",
       "      <td>4.6</td>\n",
       "      <td>₹</td>\n",
       "      <td>19,999</td>\n",
       "      <td>https://www.decathlon.in/p/8736725/tents-shelt...</td>\n",
       "    </tr>\n",
       "  </tbody>\n",
       "</table>\n",
       "</div>"
      ],
      "text/plain": [
       "                                              Product    Brand Rating  \\\n",
       "18    Camping tent 2 Seconds Easy - 3-P - Fresh&Black  QUECHUA    4.6   \n",
       "11  Camping hoop tent - Arpenaz 6.3 - 6-Person - 3...  QUECHUA    3.9   \n",
       "25          Ultra-light reflective trekking guy ropes  FORCLAZ    4.3   \n",
       "28            3-Person Trekking Tent MT900 Ultralight  FORCLAZ    4.0   \n",
       "26  Trekking dome tent - 2-person - MT900 Minimal ...  FORCLAZ    4.6   \n",
       "\n",
       "   Currency   Price                                        Description  \n",
       "18        ₹  16,999  https://www.decathlon.in/p/8576110/tents-shelt...  \n",
       "11        ₹  22,999  https://www.decathlon.in/p/8603881/tents-shelt...  \n",
       "25        ₹     399  https://www.decathlon.in/p/8527882/tents-shelt...  \n",
       "28        ₹  22,999  https://www.decathlon.in/p/8586319/tents-shelt...  \n",
       "26        ₹  19,999  https://www.decathlon.in/p/8736725/tents-shelt...  "
      ]
     },
     "execution_count": 13,
     "metadata": {},
     "output_type": "execute_result"
    }
   ],
   "source": [
    "print(df2.shape)\n",
    "df2.sample(5)"
   ]
  },
  {
   "cell_type": "code",
   "execution_count": 15,
   "metadata": {},
   "outputs": [],
   "source": [
    "#df2.sample(5).to_markdown() #get a markdown table"
   ]
  }
 ],
 "metadata": {
  "kernelspec": {
   "display_name": "webscrap",
   "language": "python",
   "name": "python3"
  },
  "language_info": {
   "codemirror_mode": {
    "name": "ipython",
    "version": 3
   },
   "file_extension": ".py",
   "mimetype": "text/x-python",
   "name": "python",
   "nbconvert_exporter": "python",
   "pygments_lexer": "ipython3",
   "version": "3.9.16"
  },
  "orig_nbformat": 4,
  "vscode": {
   "interpreter": {
    "hash": "7987c96029a84b668ec111f45f713a530b6f00af9a86ddfc4816b4cc831d8bc0"
   }
  }
 },
 "nbformat": 4,
 "nbformat_minor": 2
}
